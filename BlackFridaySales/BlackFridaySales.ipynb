{
  "cells": [
    {
      "cell_type": "code",
      "execution_count": null,
      "metadata": {
        "id": "cVyUqHlaWJa0"
      },
      "outputs": [],
      "source": [
        "import pandas as pd\n",
        "import numpy as np\n",
        "import matplotlib.pyplot as plt\n",
        "%matplotlib inline\n",
        "import seaborn as sns\n",
        "#from python import nominal # For Categorical Correlation"
      ]
    },
    {
      "cell_type": "code",
      "execution_count": null,
      "metadata": {
        "id": "Jz79Gpt9WnUs"
      },
      "outputs": [],
      "source": [
        "train = pd.read_csv('train.csv')\n",
        "test = pd.read_csv('test.csv')"
      ]
    },
    {
      "cell_type": "code",
      "execution_count": null,
      "metadata": {
        "id": "uDol_gVMXS-4"
      },
      "outputs": [],
      "source": [
        "def prepare(*args):\n",
        "    for df in args:\n",
        "        thresh = len(df)*.5\n",
        "        df.dropna(thresh=thresh,axis=1,inplace=True) # Dropping columns with more than 50% null values\n",
        "        df.Product_Category_2 = df.Product_Category_2.fillna(df['Product_Category_2'].mean()) # Filling nulls with mode\n",
        "        df.Marital_Status = df.Marital_Status.astype('bool') #making column into bool"
      ]
    },
    {
      "cell_type": "code",
      "execution_count": null,
      "metadata": {
        "id": "C8Qd0XfWXiEe"
      },
      "outputs": [],
      "source": [
        "prepare(train,test)"
      ]
    },
    {
      "cell_type": "code",
      "execution_count": null,
      "metadata": {
        "id": "cLhkB6FmgoEr"
      },
      "outputs": [],
      "source": [
        "df = train.sample(n=100000)\n",
        "true_test = test.sample(n=10000)"
      ]
    },
    {
      "cell_type": "code",
      "execution_count": null,
      "metadata": {
        "id": "NGdm39KuYCA_"
      },
      "outputs": [],
      "source": [
        "features = ['Gender', 'Age', 'Occupation', 'City_Category',\n",
        "            'Stay_In_Current_City_Years', 'Marital_Status',\n",
        "            'Product_Category_1','Product_Category_2']"
      ]
    },
    {
      "cell_type": "code",
      "execution_count": null,
      "metadata": {
        "id": "jFoLU4UXYEJU"
      },
      "outputs": [],
      "source": [
        "X = pd.get_dummies(train[features])\n",
        "y = train.Purchase"
      ]
    },
    {
      "cell_type": "code",
      "execution_count": null,
      "metadata": {
        "id": "fNpCDKXCYKkR"
      },
      "outputs": [],
      "source": [
        "from sklearn.model_selection import train_test_split\n",
        "\n",
        "X_train,X_test,y_train,y_test = train_test_split(X,y,test_size=0.2,random_state=1)"
      ]
    },
    {
      "cell_type": "code",
      "execution_count": null,
      "metadata": {
        "id": "Cn2HCppqaCYL"
      },
      "outputs": [],
      "source": [
        "from sklearn.neighbors import *\n",
        "from sklearn.linear_model import *\n",
        "from sklearn.ensemble import *\n",
        "from sklearn.tree import *\n",
        "from sklearn.metrics import *"
      ]
    },
    {
      "cell_type": "code",
      "execution_count": null,
      "metadata": {
        "colab": {
          "base_uri": "https://localhost:8080/",
          "height": 74
        },
        "id": "bj7C1YSSYym7",
        "outputId": "a2fc79e5-27c7-45c1-fad0-f8808e560fab"
      },
      "outputs": [],
      "source": [
        "rf2 = RandomForestRegressor(random_state=1)\n",
        "\n",
        "rf2.fit(X_train,y_train)"
      ]
    },
    {
      "cell_type": "code",
      "execution_count": null,
      "metadata": {
        "id": "NFIE3Kq6jFDa"
      },
      "outputs": [],
      "source": [
        "y_pred = rf2.predict(X_test)"
      ]
    },
    {
      "cell_type": "code",
      "execution_count": null,
      "metadata": {
        "id": "OYii7yjHjK5p"
      },
      "outputs": [],
      "source": [
        "def rf_score(test, prediction):\n",
        "    from sklearn import metrics\n",
        "    mse = metrics.mean_squared_error(test, prediction)\n",
        "    rmse = metrics.mean_squared_error(test,prediction,squared=False)\n",
        "    mae = metrics.mean_absolute_error(test, prediction)\n",
        "    medae = metrics.median_absolute_error(test, prediction)\n",
        "    mape = metrics.mean_absolute_percentage_error(test, prediction)\n",
        "\n",
        "    print(f\"Mean Squared Error (MSE): {mse}\")\n",
        "    print(f\"Root Mean Squared Error (RMSE): {rmse}\")\n",
        "    print(f\"Mean Absolute Error (MAE): {mae}\")\n",
        "    print(f\"Median Absolute Error (MEDAE): {medae}\")\n",
        "    print(f\"Mean Absolute Percentage Error: {mape}\")\n",
        "    print(f'Test variance: {np.var(y_test)}')"
      ]
    },
    {
      "cell_type": "code",
      "execution_count": null,
      "metadata": {
        "colab": {
          "base_uri": "https://localhost:8080/"
        },
        "id": "x6SxMI0HjMGZ",
        "outputId": "e006fd0b-4240-40cd-8fc1-5a2698a21b1c"
      },
      "outputs": [],
      "source": [
        "rf_score(y_test, y_pred)"
      ]
    },
    {
      "cell_type": "code",
      "execution_count": null,
      "metadata": {
        "colab": {
          "base_uri": "https://localhost:8080/",
          "height": 74
        },
        "id": "_kFcYm5ekKkp",
        "outputId": "77f3613e-e21f-4c96-f40f-e0fb2c1b89c4"
      },
      "outputs": [],
      "source": [
        "rf2.fit(X,y)"
      ]
    },
    {
      "cell_type": "code",
      "execution_count": null,
      "metadata": {
        "id": "Sha25WlJlDc9"
      },
      "outputs": [],
      "source": [
        "test_df_pred = rf2.predict(pd.get_dummies(test[features]))"
      ]
    },
    {
      "cell_type": "code",
      "execution_count": null,
      "metadata": {
        "id": "bq1UA0tjlTKg"
      },
      "outputs": [],
      "source": [
        "test_df_pred = pd.DataFrame({'Purchase': test_df_pred})"
      ]
    },
    {
      "cell_type": "code",
      "execution_count": null,
      "metadata": {
        "colab": {
          "base_uri": "https://localhost:8080/",
          "height": 244
        },
        "id": "6lQWFOQllWX3",
        "outputId": "a707b491-bec6-4ed7-fcd6-911f39ad993e"
      },
      "outputs": [],
      "source": [
        "final_df = pd.concat([test,test_df_pred],axis=1)\n",
        "final_df.head(4)"
      ]
    },
    {
      "cell_type": "code",
      "execution_count": null,
      "metadata": {
        "id": "xKbeJR5fl6Id"
      },
      "outputs": [],
      "source": []
    }
  ],
  "metadata": {
    "accelerator": "GPU",
    "colab": {
      "gpuType": "T4",
      "provenance": []
    },
    "kernelspec": {
      "display_name": "Python 3",
      "name": "python3"
    },
    "language_info": {
      "name": "python"
    }
  },
  "nbformat": 4,
  "nbformat_minor": 0
}
